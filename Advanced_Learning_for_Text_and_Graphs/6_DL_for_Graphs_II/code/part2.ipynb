{
 "cells": [
  {
   "cell_type": "markdown",
   "metadata": {},
   "source": [
    "# Utils"
   ]
  },
  {
   "cell_type": "code",
   "execution_count": 5,
   "metadata": {},
   "outputs": [],
   "source": [
    "import numpy as np\n",
    "import torch\n",
    "import torch.nn as nn\n",
    "import torch.nn.functional as F\n",
    "import networkx as nx\n",
    "import scipy.sparse as sp\n"
   ]
  },
  {
   "cell_type": "code",
   "execution_count": 6,
   "metadata": {},
   "outputs": [],
   "source": [
    "def sparse_mx_to_torch_sparse_tensor(M):\n",
    "    \"\"\"Converts a sparse SciPy matrix to a sparse PyTorch tensor\"\"\"\n",
    "    M = M.tocoo().astype(np.float32)\n",
    "    indices = torch.from_numpy(np.vstack((M.row, M.col)).astype(np.int64))\n",
    "    values = torch.from_numpy(M.data)\n",
    "    shape = torch.Size(M.shape)\n",
    "    return torch.sparse_coo_tensor(indices, values, shape)"
   ]
  },
  {
   "cell_type": "markdown",
   "metadata": {},
   "source": [
    "# Models"
   ]
  },
  {
   "cell_type": "code",
   "execution_count": 77,
   "metadata": {},
   "outputs": [],
   "source": [
    "class MessagePassing(nn.Module):\n",
    "    def __init__(self, input_dim, output_dim, neighbor_aggr):\n",
    "        super(MessagePassing, self).__init__()\n",
    "        self.neighbor_aggr = neighbor_aggr\n",
    "        self.fc1 = nn.Linear(input_dim, output_dim)\n",
    "        self.fc2 = nn.Linear(input_dim, output_dim)\n",
    "\n",
    "    def forward(self, x, adj):\n",
    "        \n",
    "        ############## Task 6\n",
    "\n",
    "        x_node = self.fc1(x)\n",
    "        x_nbrs = self.fc2(x)\n",
    "        m = torch.mm(adj, x_nbrs)\n",
    "        \n",
    "        if self.neighbor_aggr == 'sum':\n",
    "            output = x_node + m\n",
    "        elif self.neighbor_aggr == 'mean':\n",
    "            deg = torch.spmm(adj, torch.ones(x.size(0),1, device=x.device))\n",
    "            output = x_node + torch.div(m, deg)\n",
    "            \n",
    "        return output"
   ]
  },
  {
   "cell_type": "code",
   "execution_count": 115,
   "metadata": {},
   "outputs": [],
   "source": [
    "class GNN(nn.Module):\n",
    "    def __init__(self, input_dim, hidden_dim, output_dim, neighbor_aggr, readout, dropout):\n",
    "        super(GNN, self).__init__()\n",
    "        self.readout = readout\n",
    "        self.mp1 = MessagePassing(input_dim, hidden_dim, neighbor_aggr)\n",
    "        self.mp2 = MessagePassing(hidden_dim, hidden_dim, neighbor_aggr)\n",
    "        self.fc = nn.Linear(hidden_dim, output_dim)\n",
    "        self.dropout = nn.Dropout(dropout)\n",
    "        self.relu = nn.ReLU()\n",
    "\n",
    "    def forward(self, x, adj, idx):\n",
    "        \n",
    "        ############## Task 7\n",
    "\n",
    "        x = self.relu(self.mp1(x, adj))\n",
    "        x = self.dropout(x)\n",
    "        x = self.relu(self.mp2(x, adj))\n",
    "        \n",
    "        if self.readout == 'sum':\n",
    "            idx = idx.unsqueeze(1).repeat(1, x.size(1))\n",
    "            out = torch.zeros(torch.max(idx)+1, x.size(1), device=x.device)\n",
    "            out = out.scatter_add_(0, idx, x)\n",
    "        elif self.readout == 'mean':\n",
    "            idx = idx.unsqueeze(1).repeat(1, x.size(1))\n",
    "            out = torch.zeros(torch.max(idx)+1, x.size(1), device=x.device)\n",
    "            out = out.scatter_add_(0, idx, x)\n",
    "            count = torch.zeros(torch.max(idx)+1, x.size(1), device=x.device)\n",
    "            count = count.scatter_add_(0, idx, torch.ones_like(x, device=x.device))\n",
    "            out = torch.div(out, count)\n",
    "            \n",
    "            \n",
    "        ############## Task 7\n",
    "\n",
    "        out = self.fc(out)\n",
    "        \n",
    "        return out"
   ]
  },
  {
   "cell_type": "markdown",
   "metadata": {},
   "source": [
    "# Expressive power"
   ]
  },
  {
   "cell_type": "code",
   "execution_count": 116,
   "metadata": {},
   "outputs": [],
   "source": [
    "# Initializes device\n",
    "device = torch.device(\"cuda\") if torch.cuda.is_available() else torch.device(\"cpu\")\n",
    "\n",
    "# Hyperparameters\n",
    "hidden_dim = 32\n",
    "output_dim = 4\n",
    "dropout = 0.0\n",
    "neighbor_aggr = 'mean'\n",
    "readout = 'mean'"
   ]
  },
  {
   "cell_type": "code",
   "execution_count": 117,
   "metadata": {},
   "outputs": [],
   "source": [
    "############## Task 4\n",
    "\n",
    "Gs = [nx.cycle_graph(i) for i in range(10, 20)]"
   ]
  },
  {
   "cell_type": "code",
   "execution_count": 132,
   "metadata": {},
   "outputs": [],
   "source": [
    "############## Task 5\n",
    "        \n",
    "adj = sp.block_diag([nx.adjacency_matrix(G) for G in Gs])\n",
    "x = np.ones((adj.shape[0],1))\n",
    "idx = []\n",
    "\n",
    "for i, G in enumerate(Gs):\n",
    "    idx += [i]*G.number_of_nodes()\n",
    "\n",
    "adj = sparse_mx_to_torch_sparse_tensor(adj).to(device)\n",
    "x = torch.FloatTensor(x).to(device)\n",
    "idx = torch.LongTensor(idx).to(device)\n"
   ]
  },
  {
   "cell_type": "code",
   "execution_count": 133,
   "metadata": {},
   "outputs": [
    {
     "name": "stdout",
     "output_type": "stream",
     "text": [
      "tensor([[-0.6154,  0.0556, -0.2826,  0.0528],\n",
      "        [-0.6154,  0.0556, -0.2826,  0.0528],\n",
      "        [-0.6154,  0.0556, -0.2826,  0.0528],\n",
      "        [-0.6154,  0.0556, -0.2826,  0.0528],\n",
      "        [-0.6154,  0.0556, -0.2826,  0.0528],\n",
      "        [-0.6154,  0.0556, -0.2826,  0.0528],\n",
      "        [-0.6154,  0.0556, -0.2826,  0.0528],\n",
      "        [-0.6154,  0.0556, -0.2826,  0.0528],\n",
      "        [-0.6154,  0.0556, -0.2826,  0.0528],\n",
      "        [-0.6154,  0.0556, -0.2826,  0.0528]], grad_fn=<AddmmBackward0>)\n"
     ]
    }
   ],
   "source": [
    "############## Task 8\n",
    "\n",
    "# neighbor_aggr = readout = 'mean'\n",
    "neighbor_aggr = 'mean'\n",
    "readout = 'mean'\n",
    "model = GNN(1, hidden_dim, output_dim, neighbor_aggr, readout, dropout)\n",
    "\n",
    "print(model(x, adj, idx))\n",
    "\n",
    "# each row represents one of the cycle, 4 columns for the output\n",
    "# only identical if readout and neihbor_aggr == 'mean'\n",
    "# mean is the least expressive model, all 10-cycles graphs are mapped to the same vectors"
   ]
  },
  {
   "cell_type": "markdown",
   "metadata": {},
   "source": [
    "If 'mean' and 'sum' and weights all equal to 0, then once again everything will be mapped to 0."
   ]
  },
  {
   "cell_type": "code",
   "execution_count": 134,
   "metadata": {},
   "outputs": [
    {
     "name": "stdout",
     "output_type": "stream",
     "text": [
      "neighbor_aggr:  mean , readout:  mean\n",
      "tensor([[ 0.3439, -0.3163,  0.2242,  0.8106],\n",
      "        [ 0.3439, -0.3163,  0.2242,  0.8106],\n",
      "        [ 0.3439, -0.3163,  0.2242,  0.8106],\n",
      "        [ 0.3439, -0.3163,  0.2242,  0.8106],\n",
      "        [ 0.3439, -0.3163,  0.2242,  0.8106],\n",
      "        [ 0.3439, -0.3163,  0.2242,  0.8106],\n",
      "        [ 0.3439, -0.3163,  0.2242,  0.8106],\n",
      "        [ 0.3439, -0.3163,  0.2242,  0.8106],\n",
      "        [ 0.3439, -0.3163,  0.2242,  0.8106],\n",
      "        [ 0.3439, -0.3163,  0.2242,  0.8106]], grad_fn=<AddmmBackward0>)\n",
      "\n",
      "\n",
      "neighbor_aggr:  mean , readout:  sum\n",
      "tensor([[ 3.8475,  5.5887,  4.8825,  1.5831],\n",
      "        [ 4.2248,  6.1642,  5.3730,  1.7478],\n",
      "        [ 4.6021,  6.7397,  5.8635,  1.9126],\n",
      "        [ 4.9795,  7.3151,  6.3541,  2.0773],\n",
      "        [ 5.3568,  7.8906,  6.8446,  2.2421],\n",
      "        [ 5.7341,  8.4660,  7.3351,  2.4069],\n",
      "        [ 6.1115,  9.0415,  7.8257,  2.5716],\n",
      "        [ 6.4888,  9.6169,  8.3162,  2.7364],\n",
      "        [ 6.8661, 10.1924,  8.8067,  2.9011],\n",
      "        [ 7.2435, 10.7679,  9.2973,  3.0659]], grad_fn=<AddmmBackward0>)\n",
      "\n",
      "\n",
      "neighbor_aggr:  sum , readout:  mean\n",
      "tensor([[ 0.4887,  1.2377, -0.0592, -0.3963],\n",
      "        [ 0.4887,  1.2377, -0.0592, -0.3963],\n",
      "        [ 0.4887,  1.2377, -0.0592, -0.3963],\n",
      "        [ 0.4887,  1.2377, -0.0592, -0.3963],\n",
      "        [ 0.4887,  1.2377, -0.0592, -0.3963],\n",
      "        [ 0.4887,  1.2377, -0.0592, -0.3963],\n",
      "        [ 0.4887,  1.2377, -0.0592, -0.3963],\n",
      "        [ 0.4887,  1.2377, -0.0592, -0.3963],\n",
      "        [ 0.4887,  1.2377, -0.0592, -0.3963],\n",
      "        [ 0.4887,  1.2377, -0.0592, -0.3963]], grad_fn=<AddmmBackward0>)\n",
      "\n",
      "\n",
      "neighbor_aggr:  sum , readout:  sum\n",
      "tensor([[ 0.5598,  7.8164,  2.6077, -1.9253],\n",
      "        [ 0.6266,  8.6039,  2.8643, -2.1210],\n",
      "        [ 0.6934,  9.3914,  3.1210, -2.3167],\n",
      "        [ 0.7602, 10.1789,  3.3776, -2.5124],\n",
      "        [ 0.8270, 10.9664,  3.6342, -2.7081],\n",
      "        [ 0.8938, 11.7539,  3.8909, -2.9038],\n",
      "        [ 0.9606, 12.5414,  4.1475, -3.0995],\n",
      "        [ 1.0274, 13.3289,  4.4041, -3.2952],\n",
      "        [ 1.0942, 14.1164,  4.6608, -3.4910],\n",
      "        [ 1.1610, 14.9039,  4.9174, -3.6867]], grad_fn=<AddmmBackward0>)\n",
      "\n",
      "\n"
     ]
    }
   ],
   "source": [
    "func = ['mean', 'sum']\n",
    "\n",
    "for i in func:\n",
    "    for j in func:\n",
    "        neighbor_aggr = i\n",
    "        readout = j\n",
    "        model = GNN(1, hidden_dim, output_dim, neighbor_aggr, readout, dropout)\n",
    "        print('neighbor_aggr: ', neighbor_aggr,', readout: ', readout)\n",
    "        print(model(x, adj, idx))\n",
    "        print('\\n')"
   ]
  },
  {
   "cell_type": "code",
   "execution_count": 135,
   "metadata": {},
   "outputs": [],
   "source": [
    "############## Task 9\n",
    "\n",
    "G_1 = nx.Graph()\n",
    "G_1.add_nodes_from([0,1,2,3,4,5])\n",
    "G_1.add_edges_from([(0,1),(1,2),(2,0),(3,4),(4,5),(5,3)])\n",
    "\n",
    "G_2 = nx.cycle_graph(6)"
   ]
  },
  {
   "cell_type": "code",
   "execution_count": 136,
   "metadata": {},
   "outputs": [],
   "source": [
    "############## Task 10\n",
    "G = [G_1, G_2]\n",
    "\n",
    "adj = sp.block_diag([nx.adjacency_matrix(G) for G in G])\n",
    "x = np.ones((adj.shape[0],1))\n",
    "idx = []\n",
    "\n",
    "for i, G in enumerate(G):\n",
    "    idx += [i]*G.number_of_nodes()\n",
    "\n",
    "adj = sparse_mx_to_torch_sparse_tensor(adj).to(device)\n",
    "x = torch.FloatTensor(x).to(device)\n",
    "idx = torch.LongTensor(idx).to(device)\n"
   ]
  },
  {
   "cell_type": "code",
   "execution_count": 140,
   "metadata": {},
   "outputs": [
    {
     "name": "stdout",
     "output_type": "stream",
     "text": [
      "tensor([[-0.3077, -6.7537,  0.4661, -1.5753],\n",
      "        [-0.3077, -6.7537,  0.4661, -1.5753]], grad_fn=<AddmmBackward0>)\n"
     ]
    }
   ],
   "source": [
    "############## Task 11\n",
    "\n",
    "neighbor_aggr = readout = 'sum'\n",
    "\n",
    "model = GNN(1, hidden_dim, output_dim, neighbor_aggr, readout, dropout)\n",
    "\n",
    "print(model(x, adj, idx))"
   ]
  },
  {
   "cell_type": "markdown",
   "metadata": {},
   "source": [
    "# Non-isomorphic graphs not distinguishable by GNNs"
   ]
  },
  {
   "cell_type": "code",
   "execution_count": 174,
   "metadata": {},
   "outputs": [
    {
     "data": {
      "image/png": "[encoded data removed]",
      "text/plain": [
       "<Figure size 640x480 with 1 Axes>"
      ]
     },
     "metadata": {},
     "output_type": "display_data"
    }
   ],
   "source": [
    "G_1 = nx.Graph()\n",
    "G_1.add_nodes_from([0,1,2,3,4,5,6,7,8,9])\n",
    "G_1.add_edges_from([(0,1),(1,2),(2,3), (3,4), (4,5), (5,0), (0,6), (6,7), (7,8), (8,9), (9,1)])\n",
    "nx.draw(G_1, with_labels=True)"
   ]
  },
  {
   "cell_type": "code",
   "execution_count": 179,
   "metadata": {},
   "outputs": [
    {
     "data": {
      "image/png": "[encoded data removed]",
      "text/plain": [
       "<Figure size 640x480 with 1 Axes>"
      ]
     },
     "metadata": {},
     "output_type": "display_data"
    }
   ],
   "source": [
    "G_2 = nx.Graph()\n",
    "G_2.add_nodes_from([0,1,2,3,4,5,6,7,8,9])\n",
    "G_2.add_edges_from([(0,1),(1,2),(2,3), (3,4), (4,0), (0,5), (5,6), (6,7), (7,8), (8,9), (9,5)])\n",
    "nx.draw(G_2, with_labels=True)"
   ]
  },
  {
   "cell_type": "code",
   "execution_count": 180,
   "metadata": {},
   "outputs": [
    {
     "name": "stdout",
     "output_type": "stream",
     "text": [
      "tensor([[21.8561, -3.9065, -5.8997, -3.5650],\n",
      "        [21.8561, -3.9065, -5.8997, -3.5650]], grad_fn=<AddmmBackward0>)\n"
     ]
    }
   ],
   "source": [
    "G = [G_1, G_2]\n",
    "\n",
    "adj = sp.block_diag([nx.adjacency_matrix(G) for G in G])\n",
    "x = np.ones((adj.shape[0],1))\n",
    "idx = []\n",
    "\n",
    "for i, G in enumerate(G):\n",
    "    idx += [i]*G.number_of_nodes()\n",
    "\n",
    "adj = sparse_mx_to_torch_sparse_tensor(adj).to(device)\n",
    "x = torch.FloatTensor(x).to(device)\n",
    "idx = torch.LongTensor(idx).to(device)\n",
    "\n",
    "neighbor_aggr = readout = 'sum'\n",
    "\n",
    "model = GNN(1, hidden_dim, output_dim, neighbor_aggr, readout, dropout)\n",
    "\n",
    "print(model(x, adj, idx))"
   ]
  },
  {
   "cell_type": "code",
   "execution_count": null,
   "metadata": {},
   "outputs": [],
   "source": []
  }
 ],
 "metadata": {
  "kernelspec": {
   "display_name": "Python 3",
   "language": "python",
   "name": "python3"
  },
  "language_info": {
   "codemirror_mode": {
    "name": "ipython",
    "version": 3
   },
   "file_extension": ".py",
   "mimetype": "text/x-python",
   "name": "python",
   "nbconvert_exporter": "python",
   "pygments_lexer": "ipython3",
   "version": "3.11.5"
  }
 },
 "nbformat": 4,
 "nbformat_minor": 2
}
